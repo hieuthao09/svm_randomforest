{
 "cells": [
  {
   "cell_type": "markdown",
   "metadata": {},
   "source": [
    "====== Nguồn http://users.soict.hust.edu.vn/khoattq/ml-dm-course/ ======\n",
    "\n",
    "\n",
    "\n",
    "## Bài toán\n",
    "Dữ liệu gồm n văn bản phân vào 10 chủ đề khác nhau. Cần biễu diễn mỗi văn bản dưới dạng một vector số thể hiện cho nội dụng của văn bản đó."
   ]
  },
  {
   "cell_type": "markdown",
   "metadata": {},
   "source": [
    "## Mục lục\n",
    "- Load dữ liệu từ thư mục\n",
    "- Loại bỏ các stop words\n",
    "- Sử dụng thư viện để mã hóa TF-IDF cho mỗi văn bản"
   ]
  },
  {
   "cell_type": "markdown",
   "metadata": {},
   "source": [
    "## Phương pháp mã hóa: TF-IDF\n",
    "Cho tập gồm $n$ văn bản: $D = \\{d_1, d_2, ... d_n\\}$. Tập từ điển tương ứng được xây dựng từ $n$ văn bản này có độ dài là $m$\n",
    "- Xét văn bản $d$ có $|d|$ từ và $t$ là một từ trong $d$. Mã hóa tf-idf của $t$ trong văn bản $d$ được biểu diễn:\n",
    "\\begin{equation}\n",
    "    \\begin{split}\n",
    "        \\text{tf}_{t, d} &= \\frac{f_t}{|d|} \\\\\n",
    "        \\text{idf}_{t, d} &= \\log\\frac{n}{n_t}, \\ \\ \\ \\ n_t = |\\{d\\in D: t\\in d\\}| \\\\\n",
    "        \\text{tf-idf}_{t d} &= \\text{tf}_{t, d} \\times \\text{idf}_{t, d}\n",
    "    \\end{split}\n",
    "\\end{equation}\n",
    "\n",
    "- Khi đó văn bản $d$ được mã hóa là một vector $m$ chiều. Các từ xuất hiện trong d sẽ được thay bằng giá trị tf-idf tương ứng. Các từ không xuất hiện trong $d$ thì thay là 0"
   ]
  },
  {
   "cell_type": "code",
   "execution_count": 2,
   "metadata": {},
   "outputs": [],
   "source": [
    "import os\n",
    "import matplotlib.pyplot as plt\n",
    "import numpy as np\n",
    "\n",
    "from pyvi import ViTokenizer\n",
    "from sklearn.feature_extraction.text import CountVectorizer\n",
    "from sklearn.feature_extraction.text import TfidfTransformer\n",
    "from sklearn.pipeline import Pipeline\n",
    "from sklearn.datasets import load_files\n",
    "\n",
    "\n",
    "%matplotlib inline"
   ]
  },
  {
   "cell_type": "markdown",
   "metadata": {},
   "source": [
    "## Load dữ liệu từ thư mục\n",
    "\n",
    "Cấu trúc thư mục như sau \n",
    "\n",
    "- data/news_vnexpress/\n",
    "\n",
    "    - Kinh tế: \n",
    "        - bài báo 1.txt \n",
    "        - bài báo 2.txt \n",
    "    - Pháp luật\n",
    "        - bài báo 3.txt \n",
    "        - bài báo 4.txt "
   ]
  },
  {
   "cell_type": "code",
   "execution_count": 3,
   "metadata": {
    "scrolled": false
   },
   "outputs": [],
   "source": [
    "INPUT = 'data/news_vnexpress'\n",
    "os.makedirs(\"images\",exist_ok=True)  # thư mục lưu các các hình ảnh kết quả trong quá trình huấn luyện và đánh giá"
   ]
  },
  {
   "cell_type": "code",
   "execution_count": 4,
   "metadata": {},
   "outputs": [
    {
     "name": "stdout",
     "output_type": "stream",
     "text": [
      "Các nhãn và số văn bản tương ứng trong dữ liệu\n",
      "----------------------------------------------\n",
      "doi-song: 122\n",
      "du-lich: 57\n",
      "giai-tri: 196\n",
      "giao-duc: 118\n",
      "khoa-hoc: 133\n",
      "kinh-doanh: 229\n",
      "phap-luat: 26\n",
      "suc-khoe: 193\n",
      "the-thao: 177\n",
      "thoi-su: 58\n",
      "-------------------------\n",
      "Tổng số văn bản: 1309\n"
     ]
    }
   ],
   "source": [
    "# statistics\n",
    "print('Các nhãn và số văn bản tương ứng trong dữ liệu')\n",
    "print('----------------------------------------------')\n",
    "n = 0\n",
    "for label in os.listdir(INPUT):\n",
    "    print(f'{label}: {len(os.listdir(os.path.join(INPUT, label)))}')\n",
    "    n += len(os.listdir(os.path.join(INPUT, label)))\n",
    "\n",
    "print('-------------------------')\n",
    "print(f\"Tổng số văn bản: {n}\")"
   ]
  },
  {
   "cell_type": "code",
   "execution_count": 6,
   "metadata": {},
   "outputs": [
    {
     "name": "stdout",
     "output_type": "stream",
     "text": [
      "mapping:\n",
      "doi-song - 0\n",
      "du-lich - 1\n",
      "giai-tri - 2\n",
      "giao-duc - 3\n",
      "khoa-hoc - 4\n",
      "kinh-doanh - 5\n",
      "phap-luat - 6\n",
      "suc-khoe - 7\n",
      "the-thao - 8\n",
      "thoi-su - 9\n",
      "--------------------------\n",
      "['data/news_vnexpress\\\\the-thao\\\\00065.txt']\n",
      "['Cú chip đầu diễn ra ở hố 15 par4, khi Matsuyama đưa bóng vào bãi cỏ rough dày, cách lỗ khoảng 8,5 mét. Do anh nhẹ tay, bóng bay trước nhưng lại bị đầu gậy sắt bắt kịp. Vì thế, cựu vô địch major người Nhật Bản tình cờ có \"một cú hai chạm\". Dù vậy, bóng chỉ đến cách mục tiêu hơn ba mét. Từ đó, Matsuyama ghi bogey sau hai gạt.Cú chip thứ hai diễn ra tại hố 16 par5, dẫn đến eagle khi Matsuyama ra tay cách lỗ 15,2 mét. Nhờ vậy, anh lên điểm vòng -5. Khi Matsuyama ghi par cả hai hố còn lại, nó trở thành điểm giải cùng vị trí T2 cho anh. Đỉnh bảng thuộc về Shane Lowry ở mức -6.Kết quả vòng 1 của Matsuyama hẳn đã khác, nếu theo chiếu luật golf cũ khi anh chạm bóng hai lần trong cú chip tại hố 15. Trong tình huống như thế, luật từ 2018 trở về trước sẽ phạt hai gậy, còn hiện nay thì không.Matsuyama cũng không rõ sự thay đổi đó. \"Lúc ấy, tôi không biết mình bị phạt hay không. Sau khi caddie giải thích, tôi mới yên tâm đánh tiếp\", anh nói sau trận mở màn Arnold Palmer Invitational, trên sân Bay Hill par72 ở Orlando, Florida. Giải này thuộc diện đặc biệt (signature) trên PGA Tour 2024, với quỹ thưởng ở mức 20 triệu USD.Matsuyama, 32 tuổi, đấu chuyên nghiệp từ 2013. Anh đã qua 250 giải trên PGA Tour trong đó chín lần vô địch, tính cả major Masters 2021, còn tiền thưởng gộp đạt 48,53 triệu USD. Chiếc cup mới nhất vào tay anh hôm 18/2/2024, tại Genesis Invitational do Tiger Woods chủ trì, cũng trong nhóm signature trên đấu trường golf hạng nhất Mỹ mùa này.Quốc Huy\\r\\n']\n",
      "['Cú chip đầu diễn ra ở hố 15 par4, khi Matsuyama đưa bóng vào bãi cỏ rough dày, cách lỗ khoảng 8,5 mét. Do anh nhẹ tay, bóng bay trước nhưng lại bị đầu gậy sắt bắt kịp. Vì thế, cựu vô địch major người Nhật Bản tình cờ có \"một cú hai chạm\". Dù vậy, bóng chỉ đến cách mục tiêu hơn ba mét. Từ đó, Matsuyama ghi bogey sau hai gạt.Cú chip thứ hai diễn ra tại hố 16 par5, dẫn đến eagle khi Matsuyama ra tay cách lỗ 15,2 mét. Nhờ vậy, anh lên điểm vòng -5. Khi Matsuyama ghi par cả hai hố còn lại, nó trở thành điểm giải cùng vị trí T2 cho anh. Đỉnh bảng thuộc về Shane Lowry ở mức -6.Kết quả vòng 1 của Matsuyama hẳn đã khác, nếu theo chiếu luật golf cũ khi anh chạm bóng hai lần trong cú chip tại hố 15. Trong tình huống như thế, luật từ 2018 trở về trước sẽ phạt hai gậy, còn hiện nay thì không.Matsuyama cũng không rõ sự thay đổi đó. \"Lúc ấy, tôi không biết mình bị phạt hay không. Sau khi caddie giải thích, tôi mới yên tâm đánh tiếp\", anh nói sau trận mở màn Arnold Palmer Invitational, trên sân Bay Hill par72 ở Orlando, Florida. Giải này thuộc diện đặc biệt (signature) trên PGA Tour 2024, với quỹ thưởng ở mức 20 triệu USD.Matsuyama, 32 tuổi, đấu chuyên nghiệp từ 2013. Anh đã qua 250 giải trên PGA Tour trong đó chín lần vô địch, tính cả major Masters 2021, còn tiền thưởng gộp đạt 48,53 triệu USD. Chiếc cup mới nhất vào tay anh hôm 18/2/2024, tại Genesis Invitational do Tiger Woods chủ trì, cũng trong nhóm signature trên đấu trường golf hạng nhất Mỹ mùa này.Quốc Huy\\r\\n']\n",
      "\n",
      "Tổng số  văn bản: 1309\n"
     ]
    }
   ],
   "source": [
    "# load data\n",
    "#Load dữ liệu văn bản từ thư mục được chỉ định bởi biến INPUT \n",
    "# sử dụng hàm load_files từ module datasets trong scikit-learn.\n",
    "#In ra thống kê về dữ liệu, bao gồm số lượng văn bản cho mỗi nhãn.\n",
    "#Ánh xạ các nhãn với các chỉ số tương ứng.\n",
    "data_train = load_files(container_path=INPUT, encoding=\"utf-8\")\n",
    "print('mapping:')\n",
    "for i in range(len(data_train.target_names)):\n",
    "    print(f'{data_train.target_names[i]} - {i}')\n",
    "\n",
    "print('--------------------------')\n",
    "print(data_train.filenames[0:1])\n",
    "print(data_train.data[0:1])\n",
    "#print(data_train.target[0:1])\n",
    "print(data_train.data[0:1])\n",
    "\n",
    "print(\"\\nTổng số  văn bản: {}\" .format( len(data_train.filenames)))"
   ]
  },
  {
   "cell_type": "markdown",
   "metadata": {},
   "source": [
    "## Chuyển dữ liệu dạng text về ma trận (n x m) bằng TF-IDF"
   ]
  },
  {
   "cell_type": "code",
   "execution_count": 7,
   "metadata": {},
   "outputs": [
    {
     "name": "stdout",
     "output_type": "stream",
     "text": [
      "Số lượng stopwords: 2063\n",
      "['a_lô', 'a_ha', 'ai', 'ai_ai', 'ai_nấy', 'ai_đó', 'alô', 'amen', 'anh', 'anh_ấy']\n",
      "\n",
      "Số lượng từ trong từ điển: 14444\n",
      "Kích thước dữ liệu sau khi xử lý: (1309, 14444)\n",
      "Kích thước nhãn tương ứng: (1309,)\n"
     ]
    }
   ],
   "source": [
    "# load dữ liệu các stopwords \n",
    "# Mở tệp chứa danh sách các stopwords tiếng Việt bằng cách sử dụng open() với encoding \"utf8\".\n",
    "#Đọc danh sách các từ stopwords từ tệp và lưu chúng vào danh sách stopwords.\n",
    "with open(\"data/vietnamese-stopwords.txt\", encoding=\"utf8\") as f:\n",
    "    stopwords = f.readlines()\n",
    "#Loại bỏ các khoảng trắng thừa và thay thế bằng dấu gạch dưới \"_\" để chuẩn hóa.\n",
    "stopwords = [x.strip().replace(\" \", \"_\") for x in stopwords] \n",
    "print(f\"Số lượng stopwords: {len(stopwords)}\")\n",
    "print(stopwords[:10])\n",
    "\n",
    "# Chuyển hoá dữ liệu text về dạng vector TF \n",
    "#     - loại bỏ từ dừng\n",
    "#     - sinh từ điển\n",
    "# Khởi tạo CountVectorizer:\n",
    "\n",
    "# CountVectorizer được khởi tạo với tham số stop_words=stopwords, nơi stopwords là danh sách các từ dừng được loại bỏ trước đó.\n",
    "# CountVectorizer này sẽ chuyển đổi dữ liệu văn bản thành ma trận token counts, bỏ qua các từ trong danh sách stopwords.\n",
    "# Khởi tạo TfidfTransformer:\n",
    "\n",
    "# TfidfTransformer được khởi tạo để thực hiện việc chuyển đổi ma trận token counts thành ma trận TF-IDF.\n",
    "# Kết hợp CountVectorizer và TfidfTransformer vào một Pipeline:\n",
    "\n",
    "# Sử dụng Pipeline từ scikit-learn để gom CountVectorizer và TfidfTransformer thành một chuỗi các bước tiền xử lý dữ liệu.\n",
    "# Trong Pipeline, CountVectorizer được gán với tên 'vect' và TfidfTransformer được gán với tên 'tfidf'.\n",
    "# Kết quả của bước tiền xử lý này sẽ là ma trận TF-IDF của dữ liệu văn bản đã được xử lý.\n",
    "\n",
    "module_count_vector = CountVectorizer(stop_words=stopwords)\n",
    "model_rf_preprocess = Pipeline([('vect', module_count_vector),\n",
    "                    ('tfidf', TfidfTransformer()),\n",
    "                    ])\n",
    "# Hàm thực hiện chuyển đổi dữ liệu text thành dữ liệu số dạng ma trận \n",
    "# Input: Dữ liệu 2 chiều dạng numpy.array, mảng nhãn id dạng numpy.array \n",
    "data_preprocessed = model_rf_preprocess.fit_transform(data_train.data, data_train.target)\n",
    "\n",
    "print(f\"\\nSố lượng từ trong từ điển: {len(module_count_vector.vocabulary_)}\")\n",
    "print(f\"Kích thước dữ liệu sau khi xử lý: {data_preprocessed.shape}\")\n",
    "print(f\"Kích thước nhãn tương ứng: {data_train.target.shape}\")"
   ]
  },
  {
   "cell_type": "code",
   "execution_count": 10,
   "metadata": {},
   "outputs": [],
   "source": [
    "X = data_preprocessed\n",
    "Y = data_train.target"
   ]
  },
  {
   "cell_type": "code",
   "execution_count": 11,
   "metadata": {},
   "outputs": [
    {
     "data": {
      "text/plain": [
       "((1309, 14444), (1309,))"
      ]
     },
     "execution_count": 11,
     "metadata": {},
     "output_type": "execute_result"
    }
   ],
   "source": [
    "X.shape, Y.shape"
   ]
  },
  {
   "cell_type": "code",
   "execution_count": 10,
   "metadata": {},
   "outputs": [
    {
     "name": "stdout",
     "output_type": "stream",
     "text": [
      "[[0.         0.         0.         ... 0.04842098 0.         0.        ]]\n",
      "4\n"
     ]
    }
   ],
   "source": [
    "# in ra biểu diễn ma trận của văn bản thứ 100 trong dữ liệu, \n",
    "# được chuyển đổi về dạng mảng 1 chiều bằng phương thức toarray(). Biểu diễn này là ma trận TF-IDF của văn bản đó.\n",
    "print(X[100].toarray())\n",
    "#in ra nhãn tương ứng của văn bản thứ 100 trong dữ liệu. Điều này sẽ cho bạn biết văn bản đó thuộc vào nhóm lớp nào.\n",
    "print(Y[100])"
   ]
  },
  {
   "cell_type": "code",
   "execution_count": 30,
   "metadata": {},
   "outputs": [
    {
     "data": {
      "text/plain": [
       "182"
      ]
     },
     "execution_count": 30,
     "metadata": {},
     "output_type": "execute_result"
    }
   ],
   "source": [
    "#Tính tổng số lượng từ có giá trị khác 0\n",
    "#tiếp tục tính tổng của các tổng này, tức là tổng số lượng từ khác 0 trong tất cả các văn bản.\n",
    "sum(sum(X[100].toarray() != 0))"
   ]
  },
  {
   "cell_type": "code",
   "execution_count": 31,
   "metadata": {},
   "outputs": [
    {
     "name": "stdout",
     "output_type": "stream",
     "text": [
      "  (0, 14441)\t0.04842097684377052\n",
      "  (0, 14427)\t0.23507525989082878\n",
      "  (0, 14423)\t0.0385754970377109\n",
      "  (0, 14403)\t0.07334040426970828\n",
      "  (0, 14364)\t0.10882963057484636\n",
      "  (0, 14360)\t0.013038098578746972\n",
      "  (0, 14356)\t0.015479383510224534\n",
      "  (0, 14347)\t0.03185993747182163\n",
      "  (0, 14341)\t0.020694193640872594\n",
      "  (0, 14293)\t0.019308551389366133\n",
      "  (0, 14289)\t0.03811305614790038\n",
      "  (0, 14276)\t0.019101674687790175\n",
      "  (0, 14267)\t0.013151083732313558\n",
      "  (0, 14260)\t0.015204197748574703\n",
      "  (0, 14205)\t0.021585024208002953\n",
      "  (0, 14203)\t0.046228757767075156\n",
      "  (0, 14195)\t0.020478999052021486\n",
      "  (0, 14159)\t0.07526466702814646\n",
      "  (0, 14127)\t0.09693825686327658\n",
      "  (0, 14118)\t0.031038716838191358\n",
      "  (0, 14094)\t0.03521777988626455\n",
      "  (0, 14011)\t0.01663820851103926\n",
      "  (0, 13880)\t0.32386979281639544\n",
      "  (0, 13869)\t0.06968241538513387\n",
      "  (0, 13769)\t0.38131160205374415\n",
      "  :\t:\n",
      "  (0, 3447)\t0.009807867666120016\n",
      "  (0, 3021)\t0.032435378955159834\n",
      "  (0, 3019)\t0.04598855709095791\n",
      "  (0, 3016)\t0.026913121774857936\n",
      "  (0, 3003)\t0.07804423912151404\n",
      "  (0, 2999)\t0.08839226055908882\n",
      "  (0, 2987)\t0.0474066179141328\n",
      "  (0, 2959)\t0.08604559693135053\n",
      "  (0, 2953)\t0.02340811890206368\n",
      "  (0, 2867)\t0.039935592712242826\n",
      "  (0, 2862)\t0.0303410675753861\n",
      "  (0, 2811)\t0.020804274175085465\n",
      "  (0, 2406)\t0.040628611053972044\n",
      "  (0, 2381)\t0.03663477505251658\n",
      "  (0, 2342)\t0.01411129783946429\n",
      "  (0, 2328)\t0.03458166103625544\n",
      "  (0, 2291)\t0.059050434716999445\n",
      "  (0, 2261)\t0.03433122318331729\n",
      "  (0, 2243)\t0.041929793781592166\n",
      "  (0, 2190)\t0.16024783238580592\n",
      "  (0, 1952)\t0.015711058545044485\n",
      "  (0, 1944)\t0.015950507338245073\n",
      "  (0, 1343)\t0.03216569630220295\n",
      "  (0, 406)\t0.01918960286130697\n",
      "  (0, 377)\t0.017972470076438783\n"
     ]
    }
   ],
   "source": [
    "print(X[100])"
   ]
  },
  {
   "cell_type": "code",
   "execution_count": null,
   "metadata": {},
   "outputs": [],
   "source": []
  }
 ],
 "metadata": {
  "kernelspec": {
   "display_name": "Python 3",
   "language": "python",
   "name": "python3"
  },
  "language_info": {
   "codemirror_mode": {
    "name": "ipython",
    "version": 3
   },
   "file_extension": ".py",
   "mimetype": "text/x-python",
   "name": "python",
   "nbconvert_exporter": "python",
   "pygments_lexer": "ipython3",
   "version": "3.11.5"
  }
 },
 "nbformat": 4,
 "nbformat_minor": 4
}
